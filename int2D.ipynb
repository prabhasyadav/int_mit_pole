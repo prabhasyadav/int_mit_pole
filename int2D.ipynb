{
 "cells": [
  {
   "cell_type": "markdown",
   "metadata": {},
   "source": [
    "## Integrating 2D functions by avoiding singularity ## \n",
    "\n",
    "**The code below is partly from scipy.quad library and I have used 3-4 _Stack Overflow_ responses. I have lost the _Stack Overflow_ sources, so I am not able to cite them. All sources that I used were license-free for modifications.** \n",
    "\n",
    "_I will still not call these as my codes._\n",
    "\n",
    "The codes below integrates 2D functions by avoiding the the singularity area (poles area). Codes provided in Python library `scipy.integrate` `dblquad` gives an `Exception` error when singularity are encountered. \n",
    "The avoidance of singularity area contributes to error in integral computation. This can be minimized by using higher level of precision, i.e., reducing the area where singularity exists. The information on the location of singularity points are not a prerequisite of the developed code.\n",
    "\n",
    "The execution of code can be slow for 2D functions. Low level precision <10 should be attempted as trial attempts before targeting a more precise results.\n",
    "\n",
    "The main code is followed by an example, which can be modified. "
   ]
  },
  {
   "cell_type": "markdown",
   "metadata": {},
   "source": [
    "**The required libraries**"
   ]
  },
  {
   "cell_type": "code",
   "execution_count": 96,
   "metadata": {},
   "outputs": [],
   "source": [
    "import numpy as np\n",
    "from tqdm import tqdm"
   ]
  },
  {
   "cell_type": "markdown",
   "metadata": {},
   "source": [
    "**The modified exception error class.**"
   ]
  },
  {
   "cell_type": "code",
   "execution_count": 89,
   "metadata": {},
   "outputs": [],
   "source": [
    "class Int_Error(Exception):\n",
    "    \n",
    "    def __init__(self, *args):\n",
    "        if args:\n",
    "            self.message = args[0]\n",
    "        else:\n",
    "            self.message = None\n",
    "\n",
    "    def __str__(self):\n",
    "        if self.message:\n",
    "            return self.message\n",
    "        return \"Error Message\""
   ]
  },
  {
   "cell_type": "markdown",
   "metadata": {},
   "source": [
    "### The main code ###\n",
    "\n",
    "We first define the **_Int_pole_** `class` and then define the `function` **_int1D_**.\n"
   ]
  },
  {
   "cell_type": "code",
   "execution_count": 90,
   "metadata": {},
   "outputs": [],
   "source": [
    "class Integrate:\n",
    "    \n",
    "    def __init__(self, function):\n",
    "        self.function = function\n",
    "        self.error = 0\n",
    "        self.sign = 1\n",
    "        \n",
    "    def int2D(self, limit_list, precision):\n",
    "        \n",
    "        x_list, y_list = limit_list\n",
    "        (a, b), (c, d) = x_list, y_list\n",
    "        x_points, y_points = (b - a) * precision, (d - c) * precision\n",
    "        xs, ys = np.linspace(a, b, int(x_points)), np.linspace(c, d, int(y_points))\n",
    "        \n",
    "        integral = 0\n",
    "        sub_sum = 0\n",
    "        sup_sum = 0\n",
    "        \n",
    "        for i in tqdm(range(len(xs) - 1)):\n",
    "            delta_x = xs[i + 1] - xs[i]\n",
    "            for j in range(len(ys) - 1):\n",
    "                delta_y = ys[j + 1] - ys[j]\n",
    "                delta = delta_x * delta_y\n",
    "                try:\n",
    "                    f1 = self.function(xs[i], ys[j])\n",
    "                    sub_area = f1 * delta\n",
    "                    f2 = self.function(xs[i + 1], ys[j + 1])\n",
    "                    sup_area = f2 * delta\n",
    "\n",
    "                    area = (f2 + f1) / 2 * delta\n",
    "                    integral += area\n",
    "                    sub_sum += sub_area\n",
    "                    sup_sum += sup_area\n",
    "                    \n",
    "                except ZeroDivisionError:\n",
    "                    print(f\"\\nAvoided pole\\n\")\n",
    "\n",
    "        self.error = sup_sum - sub_sum\n",
    "        return integral"
   ]
  },
  {
   "cell_type": "markdown",
   "metadata": {},
   "source": [
    "**Let us check the code using the following test function which has a pole at $x=0$:**\n",
    "\n",
    "$$\n",
    "\\sin(x^2+y^2)/x\n",
    "$$\n",
    "\n",
    "**_Note_**: Make the precision value low or long time will be required. May be less than **10** to start with."
   ]
  },
  {
   "cell_type": "code",
   "execution_count": 91,
   "metadata": {},
   "outputs": [],
   "source": [
    "def test_fun(x, y):\n",
    "    return np.sin(x ** 2 + y ** 2)/x"
   ]
  },
  {
   "cell_type": "code",
   "execution_count": 97,
   "metadata": {},
   "outputs": [
    {
     "name": "stderr",
     "output_type": "stream",
     "text": [
      "100%|██████████| 599/599 [00:02<00:00, 257.84it/s]"
     ]
    },
    {
     "name": "stdout",
     "output_type": "stream",
     "text": [
      "The result is 3.7874583569234843e-13\n",
      "\n",
      "The accuracy of this result is -0.00909291495192107\n"
     ]
    },
    {
     "name": "stderr",
     "output_type": "stream",
     "text": [
      "\n"
     ]
    }
   ],
   "source": [
    "integral = Integrate(test_fun)\n",
    "result = integral.int2D([[-100, 100], [-100, 100]], precision=3)\n",
    "\n",
    "print(\"The result is\", result)\n",
    "print(\"\\nThe accuracy of this result is\", integral.error)"
   ]
  },
  {
   "cell_type": "markdown",
   "metadata": {},
   "source": [
    "**We check the 2D function here using Standard Python library `scipy.quad` function `dblquad`.\n",
    "Check the [link](https://docs.scipy.org/doc/scipy/reference/generated/scipy.integrate.dblquad.html#scipy.integrate.dblquad) for details of scipy.quad dblquad function.**\n",
    "\n",
    "In the example we integrate using `dblquad` the same test function as we did above with our code."
   ]
  },
  {
   "cell_type": "code",
   "execution_count": 98,
   "metadata": {},
   "outputs": [
    {
     "name": "stderr",
     "output_type": "stream",
     "text": [
      "<ipython-input-98-770403a857cb>:2: RuntimeWarning: invalid value encountered in double_scalars\n",
      "  f = lambda y, x: np.sin(x ** 2 + y ** 2)/x\n",
      "<ipython-input-98-770403a857cb>:2: RuntimeWarning: divide by zero encountered in double_scalars\n",
      "  f = lambda y, x: np.sin(x ** 2 + y ** 2)/x\n"
     ]
    },
    {
     "data": {
      "text/plain": [
       "(nan, 30129.507465093688)"
      ]
     },
     "execution_count": 98,
     "metadata": {},
     "output_type": "execute_result"
    }
   ],
   "source": [
    "from scipy import integrate\n",
    "f = lambda y, x: np.sin(x ** 2 + y ** 2)/x\n",
    "integrate.dblquad(f, -100, 100, lambda x: -100, lambda x: 100)"
   ]
  },
  {
   "cell_type": "code",
   "execution_count": null,
   "metadata": {},
   "outputs": [],
   "source": []
  }
 ],
 "metadata": {
  "kernelspec": {
   "display_name": "Python 3",
   "language": "python",
   "name": "python3"
  },
  "language_info": {
   "codemirror_mode": {
    "name": "ipython",
    "version": 3
   },
   "file_extension": ".py",
   "mimetype": "text/x-python",
   "name": "python",
   "nbconvert_exporter": "python",
   "pygments_lexer": "ipython3",
   "version": "3.8.3"
  }
 },
 "nbformat": 4,
 "nbformat_minor": 4
}
