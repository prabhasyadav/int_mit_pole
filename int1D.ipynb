{
 "cells": [
  {
   "cell_type": "markdown",
   "metadata": {},
   "source": [
    "## Integrating 2D functions by avoiding singularity ## \n",
    "\n",
    "**The code below is partly from scipy.quad library and I have used 3-4 _Stack Overflow_ responses. I have lost the _Stack Overflow_ sources, so I am not able to cite them. All sources that I used were license-free for modifications.** \n",
    "\n",
    "_I will still not call these as my codes._\n",
    "\n",
    "The codes below integrates 1D functions by avoiding the the singularity area (poles area). Codes provided in Python library `scipy.integrate` `quad` gives an `Exception` error when singularity are encountered. \n",
    "The avoidance of singularity area contributes to error in integral computation. This can be minimized by using higher level of precision, i.e., reducing the area where singularity exists. The information on the location of singularity points are not a prerequisite of the developed code.\n",
    "\n",
    "The execution of code is quite fast for 1D functions. Higher level precision >100 can be attempted for initial trials.\n",
    "\n",
    "The main code is followed by an example, which can be modified. "
   ]
  },
  {
   "cell_type": "markdown",
   "metadata": {},
   "source": [
    "**The required libraries**"
   ]
  },
  {
   "cell_type": "code",
   "execution_count": 93,
   "metadata": {},
   "outputs": [],
   "source": [
    "import numpy as np\n",
    "from tqdm import tqdm"
   ]
  },
  {
   "cell_type": "markdown",
   "metadata": {},
   "source": [
    "**The modified exception error class.**"
   ]
  },
  {
   "cell_type": "code",
   "execution_count": 77,
   "metadata": {},
   "outputs": [],
   "source": [
    "class Int_Error(Exception):\n",
    "    \n",
    "    def __init__(self, *args):\n",
    "        if args:\n",
    "            self.message = args[0]\n",
    "        else:\n",
    "            self.message = None\n",
    "\n",
    "    def __str__(self):\n",
    "        if self.message:\n",
    "            return self.message\n",
    "        return \"Error Message\""
   ]
  },
  {
   "cell_type": "markdown",
   "metadata": {},
   "source": [
    "## The main code ##\n",
    "\n",
    "We first define the **_Int_pole_** `class` and then define the `function` **_int1D_**.\n"
   ]
  },
  {
   "cell_type": "code",
   "execution_count": 86,
   "metadata": {},
   "outputs": [],
   "source": [
    "class Int_pole:\n",
    "    \n",
    "    def __init__(self, function):\n",
    "        self.function = function\n",
    "        self.error = 0\n",
    "        self.sign = 1\n",
    "\n",
    "# you can change the precision to higher value for better accuracy\n",
    "\n",
    "    def int1D(self, lower, upper, precision):\n",
    "        \n",
    "        if lower > upper:\n",
    "            lower, upper = upper, lower\n",
    "            self.sign = -1  # forces change in limits direction and the sign.\n",
    "            \n",
    "        num_points = (upper - lower) * precision\n",
    "        xs = np.linspace(lower, upper, int(num_points))\n",
    "        integral = 0\n",
    "        sup_sum = 0\n",
    "        sub_sum = 0\n",
    "        \n",
    "        for index in tqdm(range(len(xs) - 1)):\n",
    "            delta = xs[index + 1] - xs[index]\n",
    "            try:\n",
    "                y1 = self.function(xs[index])\n",
    "                sub_area = y1 * delta\n",
    "                y2 = self.function(xs[index + 1])\n",
    "                sup_area = y2 * delta\n",
    "\n",
    "                area = (y2 + y1) / 2 * delta\n",
    "                integral += area\n",
    "                sub_sum += sub_area\n",
    "                sup_sum += sup_area\n",
    "                \n",
    "            except ZeroDivisionError: # avoiding error\n",
    "                print(f\"\\n Avoided pole\")\n",
    "\n",
    "        self.error = sup_sum - sub_sum\n",
    "        return self.sign * integral"
   ]
  },
  {
   "cell_type": "markdown",
   "metadata": {},
   "source": [
    "**Let us check the code using the following test function which has a pole at $x=0$:**\n",
    "\n",
    "$$\n",
    "\\sin(x)/x\n",
    "$$\n",
    "\n",
    "**_Note_**: Make the precision value sufficiently high, maybe greater than **100** to start with."
   ]
  },
  {
   "cell_type": "code",
   "execution_count": 95,
   "metadata": {},
   "outputs": [],
   "source": [
    "def test_function(x):\n",
    "    return np.sin(x)/x"
   ]
  },
  {
   "cell_type": "code",
   "execution_count": 97,
   "metadata": {},
   "outputs": [
    {
     "name": "stderr",
     "output_type": "stream",
     "text": [
      "100%|██████████| 19999/19999 [00:00<00:00, 175351.95it/s]"
     ]
    },
    {
     "name": "stdout",
     "output_type": "stream",
     "text": [
      "1.8921661402323633\n",
      "\n",
      "The accuracy of this result is 2.220446049250313e-16\n"
     ]
    },
    {
     "name": "stderr",
     "output_type": "stream",
     "text": [
      "\n"
     ]
    }
   ],
   "source": [
    "integral = Int_pole(test_function)\n",
    "result = integral.int1D(-1, 1, precision=10000)\n",
    "print(result)\n",
    "print(\"\\nThe accuracy of this result is\", integral.error)"
   ]
  },
  {
   "cell_type": "markdown",
   "metadata": {},
   "source": [
    "**We check the 1D function here using Standard Python library `scipy.quad` `function` `quad`.\n",
    "Check the [link](https://docs.scipy.org/doc/scipy/reference/generated/scipy.integrate.quad.html#scipy.integrate.quad).**\n",
    "\n",
    "In the example we integrate using `quad` the same test function as we did above with our code."
   ]
  },
  {
   "cell_type": "code",
   "execution_count": 99,
   "metadata": {},
   "outputs": [
    {
     "name": "stderr",
     "output_type": "stream",
     "text": [
      "<ipython-input-99-633eaf70919a>:2: RuntimeWarning: invalid value encountered in double_scalars\n",
      "  x2 = lambda x: np.sin(x)/x\n",
      "<ipython-input-99-633eaf70919a>:3: IntegrationWarning: The occurrence of roundoff error is detected, which prevents \n",
      "  the requested tolerance from being achieved.  The error may be \n",
      "  underestimated.\n",
      "  integrate.quad(x2, -1, 1)\n"
     ]
    },
    {
     "data": {
      "text/plain": [
       "(nan, nan)"
      ]
     },
     "execution_count": 99,
     "metadata": {},
     "output_type": "execute_result"
    }
   ],
   "source": [
    "from scipy import integrate\n",
    "x2 = lambda x: np.sin(x)/x\n",
    "integrate.quad(x2, -1, 1)"
   ]
  },
  {
   "cell_type": "code",
   "execution_count": null,
   "metadata": {},
   "outputs": [],
   "source": []
  },
  {
   "cell_type": "code",
   "execution_count": null,
   "metadata": {},
   "outputs": [],
   "source": []
  }
 ],
 "metadata": {
  "kernelspec": {
   "display_name": "Python 3",
   "language": "python",
   "name": "python3"
  },
  "language_info": {
   "codemirror_mode": {
    "name": "ipython",
    "version": 3
   },
   "file_extension": ".py",
   "mimetype": "text/x-python",
   "name": "python",
   "nbconvert_exporter": "python",
   "pygments_lexer": "ipython3",
   "version": "3.8.3"
  }
 },
 "nbformat": 4,
 "nbformat_minor": 4
}
